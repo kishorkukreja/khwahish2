{
 "cells": [
  {
   "cell_type": "code",
   "execution_count": 2,
   "metadata": {},
   "outputs": [],
   "source": [
    "import pandas\n",
    "from sklearn.cross_validation import train_test_split\n",
    "import numpy as np\n",
    "import time\n",
    "from sklearn.externals import joblib\n",
    "import khwahish2 as khwahish2"
   ]
  },
  {
   "cell_type": "code",
   "execution_count": 14,
   "metadata": {},
   "outputs": [],
   "source": [
    "data =  pandas.read_csv('data.csv')"
   ]
  },
  {
   "cell_type": "code",
   "execution_count": 39,
   "metadata": {},
   "outputs": [
    {
     "data": {
      "text/html": [
       "<div>\n",
       "<style>\n",
       "    .dataframe thead tr:only-child th {\n",
       "        text-align: right;\n",
       "    }\n",
       "\n",
       "    .dataframe thead th {\n",
       "        text-align: left;\n",
       "    }\n",
       "\n",
       "    .dataframe tbody tr th {\n",
       "        vertical-align: top;\n",
       "    }\n",
       "</style>\n",
       "<table border=\"1\" class=\"dataframe\">\n",
       "  <thead>\n",
       "    <tr style=\"text-align: right;\">\n",
       "      <th></th>\n",
       "      <th>_id</th>\n",
       "      <th>users_name</th>\n",
       "      <th>article_id</th>\n",
       "      <th>interests</th>\n",
       "      <th>rating</th>\n",
       "    </tr>\n",
       "  </thead>\n",
       "  <tbody>\n",
       "    <tr>\n",
       "      <th>0</th>\n",
       "      <td>f1002103409903859</td>\n",
       "      <td>pragyakaul</td>\n",
       "      <td>article-sasta-sunder-aur-tikau-these-are-the-b...</td>\n",
       "      <td>foodAndNightlife | events | shopping | travel ...</td>\n",
       "      <td>2.00</td>\n",
       "    </tr>\n",
       "    <tr>\n",
       "      <th>1</th>\n",
       "      <td>f1002103409903859</td>\n",
       "      <td>pragyakaul</td>\n",
       "      <td>article-chefs-signature-is-our-go-to-kebab-kio...</td>\n",
       "      <td>foodAndNightlife | events | shopping | travel ...</td>\n",
       "      <td>1.25</td>\n",
       "    </tr>\n",
       "    <tr>\n",
       "      <th>2</th>\n",
       "      <td>f1003129143080714</td>\n",
       "      <td>umeshyadav</td>\n",
       "      <td>artcile-shop-til-you-drop-delhis-winter-sales-...</td>\n",
       "      <td>foodAndNightlife | events | shopping | travel ...</td>\n",
       "      <td>0.75</td>\n",
       "    </tr>\n",
       "    <tr>\n",
       "      <th>3</th>\n",
       "      <td>f1003129143080714</td>\n",
       "      <td>umeshyadav</td>\n",
       "      <td>article-   shop-til-you-drop-delhis-winter-sal...</td>\n",
       "      <td>foodAndNightlife | events | shopping | travel ...</td>\n",
       "      <td>0.00</td>\n",
       "    </tr>\n",
       "    <tr>\n",
       "      <th>4</th>\n",
       "      <td>f1003129143080714</td>\n",
       "      <td>umeshyadav</td>\n",
       "      <td>article-aw-snap!-no-camels-at-republic-day-par...</td>\n",
       "      <td>foodAndNightlife | events | shopping | travel ...</td>\n",
       "      <td>0.75</td>\n",
       "    </tr>\n",
       "  </tbody>\n",
       "</table>\n",
       "</div>"
      ],
      "text/plain": [
       "                 _id  users_name  \\\n",
       "0  f1002103409903859  pragyakaul   \n",
       "1  f1002103409903859  pragyakaul   \n",
       "2  f1003129143080714  umeshyadav   \n",
       "3  f1003129143080714  umeshyadav   \n",
       "4  f1003129143080714  umeshyadav   \n",
       "\n",
       "                                          article_id  \\\n",
       "0  article-sasta-sunder-aur-tikau-these-are-the-b...   \n",
       "1  article-chefs-signature-is-our-go-to-kebab-kio...   \n",
       "2  artcile-shop-til-you-drop-delhis-winter-sales-...   \n",
       "3  article-   shop-til-you-drop-delhis-winter-sal...   \n",
       "4  article-aw-snap!-no-camels-at-republic-day-par...   \n",
       "\n",
       "                                           interests  rating  \n",
       "0  foodAndNightlife | events | shopping | travel ...    2.00  \n",
       "1  foodAndNightlife | events | shopping | travel ...    1.25  \n",
       "2  foodAndNightlife | events | shopping | travel ...    0.75  \n",
       "3  foodAndNightlife | events | shopping | travel ...    0.00  \n",
       "4  foodAndNightlife | events | shopping | travel ...    0.75  "
      ]
     },
     "execution_count": 39,
     "metadata": {},
     "output_type": "execute_result"
    }
   ],
   "source": [
    "data.head()"
   ]
  },
  {
   "cell_type": "code",
   "execution_count": 18,
   "metadata": {
    "collapsed": true
   },
   "outputs": [],
   "source": [
    "users = data['_id'].unique()"
   ]
  },
  {
   "cell_type": "code",
   "execution_count": 19,
   "metadata": {},
   "outputs": [
    {
     "data": {
      "text/plain": [
       "3223"
      ]
     },
     "execution_count": 19,
     "metadata": {},
     "output_type": "execute_result"
    }
   ],
   "source": [
    "len(users)"
   ]
  },
  {
   "cell_type": "code",
   "execution_count": 20,
   "metadata": {
    "collapsed": true
   },
   "outputs": [],
   "source": [
    "train_data, test_data = train_test_split(data, test_size = 0.20, random_state=0)"
   ]
  },
  {
   "cell_type": "code",
   "execution_count": 26,
   "metadata": {},
   "outputs": [],
   "source": [
    "is_model = khwahish2.article_similarity_recommender()\n",
    "is_model.create(train_data, 'user_id', 'article')"
   ]
  },
  {
   "cell_type": "code",
   "execution_count": null,
   "metadata": {},
   "outputs": [],
   "source": [
    "#Print the articles for the user in training data\n",
    "user_id = users[5]\n",
    "user_items = is_model.find_user_articles(user_id)\n",
    "\n",
    "for user_item in user_items:\n",
    "    print(user_item)\n",
    "\n",
    "#Recommend articles for the user using personalized model\n",
    "is_model.recommend(user_id)"
   ]
  },
  {
   "cell_type": "code",
   "execution_count": null,
   "metadata": {},
   "outputs": [],
   "source": [
    "is_model.find_similar_articles(['article-some-semblance-of-normalcy-returns-bus-service-to-delhi-has-resumed'])"
   ]
  },
  {
   "cell_type": "code",
   "execution_count": null,
   "metadata": {},
   "outputs": [],
   "source": [
    "article = 'article-some-semblance-of-normalcy-returns-bus-service-to-delhi-has-resumed'\n",
    "is_model.find_similar_articles([article])"
   ]
  },
  {
   "cell_type": "code",
   "execution_count": null,
   "metadata": {
    "collapsed": true
   },
   "outputs": [],
   "source": []
  },
  {
   "cell_type": "code",
   "execution_count": null,
   "metadata": {
    "collapsed": true
   },
   "outputs": [],
   "source": []
  },
  {
   "cell_type": "code",
   "execution_count": null,
   "metadata": {
    "collapsed": true
   },
   "outputs": [],
   "source": []
  }
 ],
 "metadata": {
  "kernelspec": {
   "display_name": "Python 2",
   "language": "python",
   "name": "python2"
  },
  "language_info": {
   "codemirror_mode": {
    "name": "ipython",
    "version": 2
   },
   "file_extension": ".py",
   "mimetype": "text/x-python",
   "name": "python",
   "nbconvert_exporter": "python",
   "pygments_lexer": "ipython2",
   "version": "2.7.13"
  }
 },
 "nbformat": 4,
 "nbformat_minor": 2
}
