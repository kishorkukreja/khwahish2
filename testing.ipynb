{
 "cells": [
  {
   "cell_type": "code",
   "execution_count": 172,
   "metadata": {},
   "outputs": [],
   "source": [
    "import pandas\n",
    "from sklearn.cross_validation import train_test_split\n",
    "import numpy as np\n",
    "import time\n",
    "import numpy as np\n",
    "from sklearn.externals import joblib\n",
    "import recommender as recommender"
   ]
  },
  {
   "cell_type": "code",
   "execution_count": 164,
   "metadata": {},
   "outputs": [],
   "source": [
    "data =  pandas.read_csv('data.csv')"
   ]
  },
  {
   "cell_type": "code",
   "execution_count": 165,
   "metadata": {},
   "outputs": [
    {
     "data": {
      "text/html": [
       "<div>\n",
       "<style>\n",
       "    .dataframe thead tr:only-child th {\n",
       "        text-align: right;\n",
       "    }\n",
       "\n",
       "    .dataframe thead th {\n",
       "        text-align: left;\n",
       "    }\n",
       "\n",
       "    .dataframe tbody tr th {\n",
       "        vertical-align: top;\n",
       "    }\n",
       "</style>\n",
       "<table border=\"1\" class=\"dataframe\">\n",
       "  <thead>\n",
       "    <tr style=\"text-align: right;\">\n",
       "      <th></th>\n",
       "      <th>_id</th>\n",
       "      <th>users_name</th>\n",
       "      <th>article_id</th>\n",
       "      <th>interests</th>\n",
       "      <th>rating</th>\n",
       "    </tr>\n",
       "  </thead>\n",
       "  <tbody>\n",
       "    <tr>\n",
       "      <th>0</th>\n",
       "      <td>f1002103409903859</td>\n",
       "      <td>pragyakaul</td>\n",
       "      <td>article-sasta-sunder-aur-tikau-these-are-the-b...</td>\n",
       "      <td>foodAndNightlife | events | shopping | travel ...</td>\n",
       "      <td>2.00</td>\n",
       "    </tr>\n",
       "    <tr>\n",
       "      <th>1</th>\n",
       "      <td>f1002103409903859</td>\n",
       "      <td>pragyakaul</td>\n",
       "      <td>article-chefs-signature-is-our-go-to-kebab-kio...</td>\n",
       "      <td>foodAndNightlife | events | shopping | travel ...</td>\n",
       "      <td>1.25</td>\n",
       "    </tr>\n",
       "    <tr>\n",
       "      <th>2</th>\n",
       "      <td>f1003129143080714</td>\n",
       "      <td>umeshyadav</td>\n",
       "      <td>artcile-shop-til-you-drop-delhis-winter-sales-...</td>\n",
       "      <td>foodAndNightlife | events | shopping | travel ...</td>\n",
       "      <td>0.75</td>\n",
       "    </tr>\n",
       "    <tr>\n",
       "      <th>3</th>\n",
       "      <td>f1003129143080714</td>\n",
       "      <td>umeshyadav</td>\n",
       "      <td>article-   shop-til-you-drop-delhis-winter-sal...</td>\n",
       "      <td>foodAndNightlife | events | shopping | travel ...</td>\n",
       "      <td>0.00</td>\n",
       "    </tr>\n",
       "    <tr>\n",
       "      <th>4</th>\n",
       "      <td>f1003129143080714</td>\n",
       "      <td>umeshyadav</td>\n",
       "      <td>article-aw-snap!-no-camels-at-republic-day-par...</td>\n",
       "      <td>foodAndNightlife | events | shopping | travel ...</td>\n",
       "      <td>0.75</td>\n",
       "    </tr>\n",
       "  </tbody>\n",
       "</table>\n",
       "</div>"
      ],
      "text/plain": [
       "                 _id  users_name  \\\n",
       "0  f1002103409903859  pragyakaul   \n",
       "1  f1002103409903859  pragyakaul   \n",
       "2  f1003129143080714  umeshyadav   \n",
       "3  f1003129143080714  umeshyadav   \n",
       "4  f1003129143080714  umeshyadav   \n",
       "\n",
       "                                          article_id  \\\n",
       "0  article-sasta-sunder-aur-tikau-these-are-the-b...   \n",
       "1  article-chefs-signature-is-our-go-to-kebab-kio...   \n",
       "2  artcile-shop-til-you-drop-delhis-winter-sales-...   \n",
       "3  article-   shop-til-you-drop-delhis-winter-sal...   \n",
       "4  article-aw-snap!-no-camels-at-republic-day-par...   \n",
       "\n",
       "                                           interests  rating  \n",
       "0  foodAndNightlife | events | shopping | travel ...    2.00  \n",
       "1  foodAndNightlife | events | shopping | travel ...    1.25  \n",
       "2  foodAndNightlife | events | shopping | travel ...    0.75  \n",
       "3  foodAndNightlife | events | shopping | travel ...    0.00  \n",
       "4  foodAndNightlife | events | shopping | travel ...    0.75  "
      ]
     },
     "execution_count": 165,
     "metadata": {},
     "output_type": "execute_result"
    }
   ],
   "source": [
    "data.head()"
   ]
  },
  {
   "cell_type": "code",
   "execution_count": 166,
   "metadata": {
    "collapsed": true
   },
   "outputs": [],
   "source": [
    "users = data['_id'].unique()"
   ]
  },
  {
   "cell_type": "code",
   "execution_count": 167,
   "metadata": {},
   "outputs": [
    {
     "data": {
      "text/plain": [
       "3223"
      ]
     },
     "execution_count": 167,
     "metadata": {},
     "output_type": "execute_result"
    }
   ],
   "source": [
    "len(users)"
   ]
  },
  {
   "cell_type": "code",
   "execution_count": 168,
   "metadata": {
    "collapsed": true
   },
   "outputs": [],
   "source": [
    "train_data, test_data = train_test_split(data, test_size = 0.20, random_state=0)"
   ]
  },
  {
   "cell_type": "code",
   "execution_count": 169,
   "metadata": {},
   "outputs": [],
   "source": [
    "# list(train_data._id)"
   ]
  },
  {
   "cell_type": "code",
   "execution_count": 173,
   "metadata": {},
   "outputs": [],
   "source": [
    "is_model = recommender.article_similarity_recommender_py()\n",
    "is_model.create(train_data,'_id','article_id')"
   ]
  },
  {
   "cell_type": "code",
   "execution_count": 174,
   "metadata": {},
   "outputs": [
    {
     "name": "stdout",
     "output_type": "stream",
     "text": [
      "article-quirk-up-your-humdrum-kitchenware-7-places-to-get-the-cutest-cutlery-in-town\n",
      "article-sufism-aromatic-biryani-make-your-way-to-the-matka-pir-dargah\n",
      "article-mickeys-kitchen-promises-to-satiate-your-late-night-cravings-with-divine-burgers-bacon-fries-more\n",
      "article-serene-pools-in-the-middle-of-a-concrete-jungle-these-are-the-unexplored-lakes-of-delhi\n",
      "article-shortcuts-to-heaven-5-places-to-pig-out-on-the-best-cake-jars-in-delhi\n",
      "article-organizing-all-your-accessories-in-the-most-fashionable-way-pretty-please-me-is-back-at-citywalk\n",
      "No. of unique articles for the user: 6\n",
      "no. of unique articles in the training set: 5190\n",
      "Non zero values in cooccurence_matrix :3064\n"
     ]
    },
    {
     "data": {
      "text/html": [
       "<div>\n",
       "<style>\n",
       "    .dataframe thead tr:only-child th {\n",
       "        text-align: right;\n",
       "    }\n",
       "\n",
       "    .dataframe thead th {\n",
       "        text-align: left;\n",
       "    }\n",
       "\n",
       "    .dataframe tbody tr th {\n",
       "        vertical-align: top;\n",
       "    }\n",
       "</style>\n",
       "<table border=\"1\" class=\"dataframe\">\n",
       "  <thead>\n",
       "    <tr style=\"text-align: right;\">\n",
       "      <th></th>\n",
       "      <th>user_id</th>\n",
       "      <th>article</th>\n",
       "      <th>score</th>\n",
       "      <th>rank</th>\n",
       "    </tr>\n",
       "  </thead>\n",
       "  <tbody>\n",
       "    <tr>\n",
       "      <th>0</th>\n",
       "      <td>f1009232629162649</td>\n",
       "      <td>article-sample-a-taste-of-the-rajasthani-way-o...</td>\n",
       "      <td>0.148810</td>\n",
       "      <td>1</td>\n",
       "    </tr>\n",
       "    <tr>\n",
       "      <th>1</th>\n",
       "      <td>f1009232629162649</td>\n",
       "      <td>article-proudly-displaying-angry-wrestlers-dec...</td>\n",
       "      <td>0.133796</td>\n",
       "      <td>2</td>\n",
       "    </tr>\n",
       "    <tr>\n",
       "      <th>2</th>\n",
       "      <td>f1009232629162649</td>\n",
       "      <td>article-ladies-save-up-we-bring-to-you-a-list-...</td>\n",
       "      <td>0.130556</td>\n",
       "      <td>3</td>\n",
       "    </tr>\n",
       "    <tr>\n",
       "      <th>3</th>\n",
       "      <td>f1009232629162649</td>\n",
       "      <td>article-you-need-to-drop-by-bamboo-shoots-to-s...</td>\n",
       "      <td>0.129167</td>\n",
       "      <td>4</td>\n",
       "    </tr>\n",
       "    <tr>\n",
       "      <th>4</th>\n",
       "      <td>f1009232629162649</td>\n",
       "      <td>article-laughter-is-the-best-med-book-your-spo...</td>\n",
       "      <td>0.127976</td>\n",
       "      <td>5</td>\n",
       "    </tr>\n",
       "    <tr>\n",
       "      <th>5</th>\n",
       "      <td>f1009232629162649</td>\n",
       "      <td>article-addicted-to-caffeine-fresh-brew-cos-ar...</td>\n",
       "      <td>0.123016</td>\n",
       "      <td>6</td>\n",
       "    </tr>\n",
       "    <tr>\n",
       "      <th>6</th>\n",
       "      <td>f1009232629162649</td>\n",
       "      <td>article-ladies-find-sexy-intimates-lingerie-at...</td>\n",
       "      <td>0.120085</td>\n",
       "      <td>7</td>\n",
       "    </tr>\n",
       "    <tr>\n",
       "      <th>7</th>\n",
       "      <td>f1009232629162649</td>\n",
       "      <td>article-prawns-fish-fillets-lobsters-these-are...</td>\n",
       "      <td>0.118326</td>\n",
       "      <td>8</td>\n",
       "    </tr>\n",
       "    <tr>\n",
       "      <th>8</th>\n",
       "      <td>f1009232629162649</td>\n",
       "      <td>article-grab-on-the-go-healthy-calorie-control...</td>\n",
       "      <td>0.117063</td>\n",
       "      <td>9</td>\n",
       "    </tr>\n",
       "    <tr>\n",
       "      <th>9</th>\n",
       "      <td>f1009232629162649</td>\n",
       "      <td>article-a-sushi-masterclass-tokya-inspired-coc...</td>\n",
       "      <td>0.115152</td>\n",
       "      <td>10</td>\n",
       "    </tr>\n",
       "  </tbody>\n",
       "</table>\n",
       "</div>"
      ],
      "text/plain": [
       "             user_id                                            article  \\\n",
       "0  f1009232629162649  article-sample-a-taste-of-the-rajasthani-way-o...   \n",
       "1  f1009232629162649  article-proudly-displaying-angry-wrestlers-dec...   \n",
       "2  f1009232629162649  article-ladies-save-up-we-bring-to-you-a-list-...   \n",
       "3  f1009232629162649  article-you-need-to-drop-by-bamboo-shoots-to-s...   \n",
       "4  f1009232629162649  article-laughter-is-the-best-med-book-your-spo...   \n",
       "5  f1009232629162649  article-addicted-to-caffeine-fresh-brew-cos-ar...   \n",
       "6  f1009232629162649  article-ladies-find-sexy-intimates-lingerie-at...   \n",
       "7  f1009232629162649  article-prawns-fish-fillets-lobsters-these-are...   \n",
       "8  f1009232629162649  article-grab-on-the-go-healthy-calorie-control...   \n",
       "9  f1009232629162649  article-a-sushi-masterclass-tokya-inspired-coc...   \n",
       "\n",
       "      score rank  \n",
       "0  0.148810    1  \n",
       "1  0.133796    2  \n",
       "2  0.130556    3  \n",
       "3  0.129167    4  \n",
       "4  0.127976    5  \n",
       "5  0.123016    6  \n",
       "6  0.120085    7  \n",
       "7  0.118326    8  \n",
       "8  0.117063    9  \n",
       "9  0.115152   10  "
      ]
     },
     "execution_count": 174,
     "metadata": {},
     "output_type": "execute_result"
    }
   ],
   "source": [
    "#Print the articles for the user in training data\n",
    "_id = users[10]\n",
    "user_articles = is_model.get_user_articles(user_id)\n",
    "\n",
    "for user_article in user_articles:\n",
    "    print(user_article)\n",
    "\n",
    "#Recommend articles for the user using personalized model\n",
    "is_model.recommend(user)"
   ]
  },
  {
   "cell_type": "code",
   "execution_count": 147,
   "metadata": {},
   "outputs": [
    {
     "name": "stdout",
     "output_type": "stream",
     "text": [
      "no. of unique articles in the training set: 5190\n",
      "Non zero values in cooccurence_matrix :121\n"
     ]
    },
    {
     "data": {
      "text/html": [
       "<div>\n",
       "<style>\n",
       "    .dataframe thead tr:only-child th {\n",
       "        text-align: right;\n",
       "    }\n",
       "\n",
       "    .dataframe thead th {\n",
       "        text-align: left;\n",
       "    }\n",
       "\n",
       "    .dataframe tbody tr th {\n",
       "        vertical-align: top;\n",
       "    }\n",
       "</style>\n",
       "<table border=\"1\" class=\"dataframe\">\n",
       "  <thead>\n",
       "    <tr style=\"text-align: right;\">\n",
       "      <th></th>\n",
       "      <th>user_id</th>\n",
       "      <th>article</th>\n",
       "      <th>score</th>\n",
       "      <th>rank</th>\n",
       "    </tr>\n",
       "  </thead>\n",
       "  <tbody>\n",
       "    <tr>\n",
       "      <th>0</th>\n",
       "      <td></td>\n",
       "      <td>article-get-lulled-into-a-happy-melodious-stup...</td>\n",
       "      <td>1.0</td>\n",
       "      <td>1</td>\n",
       "    </tr>\n",
       "    <tr>\n",
       "      <th>1</th>\n",
       "      <td></td>\n",
       "      <td>article-our-fav-picks-of-must-do-events-this-w...</td>\n",
       "      <td>1.0</td>\n",
       "      <td>2</td>\n",
       "    </tr>\n",
       "    <tr>\n",
       "      <th>2</th>\n",
       "      <td></td>\n",
       "      <td>article-gurgaon-just-saw-its-first-pride-parad...</td>\n",
       "      <td>1.0</td>\n",
       "      <td>3</td>\n",
       "    </tr>\n",
       "    <tr>\n",
       "      <th>3</th>\n",
       "      <td></td>\n",
       "      <td>article-jungle-jungle-pata-chala-hai-jungle-bo...</td>\n",
       "      <td>1.0</td>\n",
       "      <td>4</td>\n",
       "    </tr>\n",
       "    <tr>\n",
       "      <th>4</th>\n",
       "      <td></td>\n",
       "      <td>article-upper-crust-swanky-whisky-and-cigar-fe...</td>\n",
       "      <td>1.0</td>\n",
       "      <td>5</td>\n",
       "    </tr>\n",
       "    <tr>\n",
       "      <th>5</th>\n",
       "      <td></td>\n",
       "      <td>article-mini-afghanistan-a-mini-photo-essay-of...</td>\n",
       "      <td>1.0</td>\n",
       "      <td>6</td>\n",
       "    </tr>\n",
       "    <tr>\n",
       "      <th>6</th>\n",
       "      <td></td>\n",
       "      <td>article-catching-up-with-cornelia-funke-at-the...</td>\n",
       "      <td>1.0</td>\n",
       "      <td>7</td>\n",
       "    </tr>\n",
       "    <tr>\n",
       "      <th>7</th>\n",
       "      <td></td>\n",
       "      <td>artcile-for-all-those-nights-out-6-places-to-s...</td>\n",
       "      <td>1.0</td>\n",
       "      <td>8</td>\n",
       "    </tr>\n",
       "    <tr>\n",
       "      <th>8</th>\n",
       "      <td></td>\n",
       "      <td>article-the-newbie-joocy-in-gurgaon-is-offerin...</td>\n",
       "      <td>1.0</td>\n",
       "      <td>9</td>\n",
       "    </tr>\n",
       "    <tr>\n",
       "      <th>9</th>\n",
       "      <td></td>\n",
       "      <td>article-sophisticated-wine-boxes-hip-flasks-de...</td>\n",
       "      <td>1.0</td>\n",
       "      <td>10</td>\n",
       "    </tr>\n",
       "  </tbody>\n",
       "</table>\n",
       "</div>"
      ],
      "text/plain": [
       "  user_id                                            article  score rank\n",
       "0          article-get-lulled-into-a-happy-melodious-stup...    1.0    1\n",
       "1          article-our-fav-picks-of-must-do-events-this-w...    1.0    2\n",
       "2          article-gurgaon-just-saw-its-first-pride-parad...    1.0    3\n",
       "3          article-jungle-jungle-pata-chala-hai-jungle-bo...    1.0    4\n",
       "4          article-upper-crust-swanky-whisky-and-cigar-fe...    1.0    5\n",
       "5          article-mini-afghanistan-a-mini-photo-essay-of...    1.0    6\n",
       "6          article-catching-up-with-cornelia-funke-at-the...    1.0    7\n",
       "7          artcile-for-all-those-nights-out-6-places-to-s...    1.0    8\n",
       "8          article-the-newbie-joocy-in-gurgaon-is-offerin...    1.0    9\n",
       "9          article-sophisticated-wine-boxes-hip-flasks-de...    1.0   10"
      ]
     },
     "execution_count": 147,
     "metadata": {},
     "output_type": "execute_result"
    }
   ],
   "source": [
    "is_model.get_similar_articles(['article-some-semblance-of-normalcy-returns-bus-service-to-delhi-has-resumed'])"
   ]
  },
  {
   "cell_type": "code",
   "execution_count": null,
   "metadata": {
    "collapsed": true
   },
   "outputs": [],
   "source": []
  },
  {
   "cell_type": "code",
   "execution_count": null,
   "metadata": {
    "collapsed": true
   },
   "outputs": [],
   "source": []
  },
  {
   "cell_type": "code",
   "execution_count": null,
   "metadata": {
    "collapsed": true
   },
   "outputs": [],
   "source": []
  }
 ],
 "metadata": {
  "kernelspec": {
   "display_name": "Python 2",
   "language": "python",
   "name": "python2"
  },
  "language_info": {
   "codemirror_mode": {
    "name": "ipython",
    "version": 2
   },
   "file_extension": ".py",
   "mimetype": "text/x-python",
   "name": "python",
   "nbconvert_exporter": "python",
   "pygments_lexer": "ipython2",
   "version": "2.7.13"
  }
 },
 "nbformat": 4,
 "nbformat_minor": 2
}
